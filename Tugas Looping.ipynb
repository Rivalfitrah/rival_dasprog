{
 "cells": [
  {
   "cell_type": "markdown",
   "metadata": {},
   "source": [
    "Rival Fitrah Dermawan\n",
    "J0403231039"
   ]
  },
  {
   "cell_type": "markdown",
   "metadata": {},
   "source": [
    "General Format"
   ]
  },
  {
   "cell_type": "code",
   "execution_count": null,
   "metadata": {},
   "outputs": [],
   "source": [
    "while test:\t\t\t# Loop test\n",
    "    statements\t\t# Loop body\n",
    "    if test: break \t# Exit loop now, skip else if present\n",
    "    if test: continue \t# Go to top of loop now, to test1\n",
    "else:\n",
    "statements \t\t# Run if we didn't hit a 'break'\n"
   ]
  },
  {
   "cell_type": "markdown",
   "metadata": {},
   "source": [
    "Example"
   ]
  },
  {
   "cell_type": "code",
   "execution_count": null,
   "metadata": {},
   "outputs": [],
   "source": [
    "time = 0\n",
    "population = 1000 # 1000 bacteria to start with\n",
    "growth_rate = 0.21 # 21% growth per minute\n",
    "while population < 2000:\n",
    "    population = population + growth_rate * population\n",
    "    print(round(population))\n",
    "    time = time + 1\n",
    "print(\"It took\", time, \"minutes for the bacteria to double.\")\n",
    "print(\"The final population was\", round(population), \"bacteria.\")\n"
   ]
  },
  {
   "cell_type": "markdown",
   "metadata": {},
   "source": [
    "Examples - Infinite Loop"
   ]
  },
  {
   "cell_type": "code",
   "execution_count": null,
   "metadata": {},
   "outputs": [],
   "source": [
    "# Use multivalued assignment to set up controls\n",
    "time, population, growth_rate = 0, 1000, 0.21\n",
    "# Don't stop until we're exactly double the original size\n",
    "while population != 2000:\n",
    "    population = population + growth_rate * population\n",
    "    print(round(population))\n",
    "    time = time + 1\n",
    "print(\"It took\", time, \"minutes for the bacteria to double.\")\n"
   ]
  },
  {
   "cell_type": "markdown",
   "metadata": {},
   "source": [
    "Example - Avoid Infinite Loop using Proper Condition, User Input & Break"
   ]
  },
  {
   "cell_type": "code",
   "execution_count": null,
   "metadata": {},
   "outputs": [],
   "source": [
    "text = \"\"\n",
    "while text != \"q\":\t\t\t\t\t\t\t\t\t\t# not use while True\n",
    "  text = input(\"Please enter a chemical formula (or 'q' to exit): \")\t# user input\n",
    "  if text == \"q\":\n",
    "    print(\"…exiting program\")\n",
    "    Break\t\t\t\t\t\t\t\t\t\t\t# break\n",
    "  elif text == \"H2O\":\n",
    "    print(\"Water\")\n",
    "  elif text == \"NH3\":\n",
    "    print(\"Ammonia\")\n",
    "  elif text == \"CH4\":\n",
    "    print(\"Methane\")\n",
    "  else:\n",
    "    print(\"Unknown compound\")\n"
   ]
  },
  {
   "cell_type": "markdown",
   "metadata": {},
   "source": [
    "General format"
   ]
  },
  {
   "cell_type": "code",
   "execution_count": null,
   "metadata": {},
   "outputs": [],
   "source": [
    "for i in object: \t   # Assign object items to iteration variable\n",
    "    statements \t   # Repeated loop body: use iteration variable\n",
    "    if test: break \t   # Exit loop now, skip else\n",
    "    if test: continue   # Go to top of loop now\n",
    "else: \t\t\t   # Optional else part\n",
    "  statements \t   # If we didn't hit a 'break'"
   ]
  },
  {
   "cell_type": "markdown",
   "metadata": {},
   "source": [
    "Example"
   ]
  },
  {
   "cell_type": "code",
   "execution_count": null,
   "metadata": {},
   "outputs": [],
   "source": [
    "favorites = ['Churros', 'Tiramisú', 'Pudding']\n",
    "\n",
    "for dessert in favorites:\n",
    "    print('One of my favorite desserts is', dessert)\n"
   ]
  },
  {
   "cell_type": "markdown",
   "metadata": {},
   "source": [
    "Processing all items"
   ]
  },
  {
   "cell_type": "code",
   "execution_count": null,
   "metadata": {},
   "outputs": [],
   "source": [
    "days_of_week = [\"Monday\", \"Tuesday\", \"Wednesday\", \"Thursday\", \"Friday\", \"Saturday\", \"Sunday\"]\n",
    "\n",
    "for day in days_of_week:\n",
    "    print(day)\n"
   ]
  },
  {
   "cell_type": "markdown",
   "metadata": {},
   "source": [
    "Counting"
   ]
  },
  {
   "cell_type": "code",
   "execution_count": null,
   "metadata": {},
   "outputs": [],
   "source": [
    "survey_responses = [\"positive\", \"neutral\", \"positive\", \"negative\", \"positive\", \"positive\", \"neutral\"]\n",
    "\n",
    "positive_count = 0\n",
    "\n",
    "for response in survey_responses:\n",
    "    if response == \"positive\":\n",
    "        positive_count += 1\n",
    "\n",
    "print(f\"Number of positive responses: {positive_count}\")\n"
   ]
  },
  {
   "cell_type": "markdown",
   "metadata": {},
   "source": [
    "Summing"
   ]
  },
  {
   "cell_type": "code",
   "execution_count": null,
   "metadata": {},
   "outputs": [],
   "source": [
    "sales_transactions = [100.50, 75.25, 50.75, 30.00, 45.50]\n",
    "\n",
    "total_revenue = 0\n",
    "\n",
    "for transaction in sales_transactions:\n",
    "    total_revenue += transaction\n",
    "\n",
    "print(f\"Total revenue: ${total_revenue:.2f}\")\n"
   ]
  },
  {
   "cell_type": "markdown",
   "metadata": {},
   "source": [
    "Filtering"
   ]
  },
  {
   "cell_type": "code",
   "execution_count": null,
   "metadata": {},
   "outputs": [],
   "source": [
    "email_addresses = [\"user1@spam.com\", \"user2@gmail.com\", \"user3@spam.com\"]\n",
    "\n",
    "spam_emails = []\n",
    "\n",
    "for email in email_addresses:\n",
    "    if email.endswith(\"@spam.com\"):\n",
    "        spam_emails.append(email)\t\t\n",
    "\n",
    "print(\"Spam emails:\")\n",
    "for email in spam_emails:\n",
    "    print(email)\n"
   ]
  },
  {
   "cell_type": "markdown",
   "metadata": {},
   "source": [
    "Searching"
   ]
  },
  {
   "cell_type": "code",
   "execution_count": null,
   "metadata": {},
   "outputs": [],
   "source": [
    "student_names = [\"Alice\", \"Bob\", \"Charlie\", \"David\"]\n",
    "student_name_to_search = \"Charlie\"\n",
    "\n",
    "student_found = False\n",
    "\n",
    "for name in student_names:\n",
    "    if name == student_name_to_search:\n",
    "        student_found = True\n",
    "        break\n",
    "\n",
    "if student_found:\n",
    "    print(f\"Student {student_name_to_search} found.\")\n",
    "else:\n",
    "    print(f\"Student {student_name_to_search} not found.\")\n"
   ]
  },
  {
   "cell_type": "markdown",
   "metadata": {},
   "source": [
    "Finding Maximum/Minimum"
   ]
  },
  {
   "cell_type": "code",
   "execution_count": null,
   "metadata": {},
   "outputs": [],
   "source": [
    "temperatures = [75, 82, 79, 88, 91, 84, 77]\n",
    "max_temperature = temperatures[0]\n",
    "\n",
    "for temperature in temperatures:\n",
    "    if temperature > max_temperature:\n",
    "        max_temperature = temperature\n",
    "\n",
    "print(f\"The maximum temperature of the week was {max_temperature}°F.\")\n"
   ]
  },
  {
   "cell_type": "markdown",
   "metadata": {},
   "source": [
    "Range() function"
   ]
  },
  {
   "cell_type": "code",
   "execution_count": null,
   "metadata": {},
   "outputs": [],
   "source": [
    "my_range1 = range(5) \t\t\t# generates a sequence equivalent to [0, 1, 2, 3, 4]\n",
    "my_range2 = range(3, 6)\t\t# generates a sequence equivalent to [3, 4, 5]\n",
    "even_numbers = range(2, 11, 2)\t# generates a sequence equivalent to [2, 4, 6, 8, 10"
   ]
  },
  {
   "cell_type": "markdown",
   "metadata": {},
   "source": [
    "Looping Over a Range of Numbers (using Range())"
   ]
  },
  {
   "cell_type": "code",
   "execution_count": null,
   "metadata": {},
   "outputs": [],
   "source": [
    "import time\n",
    "\n",
    "countdown_seconds = 5\n",
    "\n",
    "print(\"Get ready for liftoff!\")\n",
    "for remaining_seconds in range(countdown_seconds, 0, -1):\n",
    "    print(f\"{remaining_seconds}...\")\n",
    "    time.sleep(1)\n",
    "\n",
    "print(\"Blast off!\")\n"
   ]
  },
  {
   "cell_type": "code",
   "execution_count": null,
   "metadata": {},
   "outputs": [],
   "source": [
    "days_in_month = 30\n",
    "start_day = 1 #1st day of the month \n",
    "\n",
    "print(\"<< Dummy Calendar >>\")\n",
    "print(\"Mon Tue Wed Thu Fri Sat Sun\")\n",
    "for day in range(1, days_in_month + 1):\n",
    "    print(f\"{day:3d}\", end=\" \")\n",
    "\n",
    "    # new line for next week (Sunday)\n",
    "    if (day + start_day - 1) % 7 == 0:\n",
    "        print()\n"
   ]
  },
  {
   "cell_type": "markdown",
   "metadata": {},
   "source": [
    "Nesting Loops in Loops"
   ]
  },
  {
   "cell_type": "code",
   "execution_count": null,
   "metadata": {},
   "outputs": [],
   "source": [
    "outer = ['Li', 'Na', 'K']\n",
    "inner = ['F', 'Cl', 'Br']\n",
    "for metal in outer:\n",
    "    for halogen in inner:\n",
    "        print(metal + halogen)\n"
   ]
  },
  {
   "cell_type": "code",
   "execution_count": null,
   "metadata": {},
   "outputs": [],
   "source": [
    "height = 5  # Height of the pyramid\n",
    "\n",
    "for i in range(1, height + 1):\n",
    "    # Print spaces before the stars\n",
    "    for j in range(height - i):\n",
    "        print(\" \", end=\"\")\n",
    "\n",
    "    # Print the stars\n",
    "    for k in range(2 * i - 1):\n",
    "        print(\"*\", end=\"\")\n",
    "\n",
    "    # Move to the next line after each row\n",
    "    print()\n"
   ]
  },
  {
   "cell_type": "markdown",
   "metadata": {},
   "source": [
    "Else - Examples"
   ]
  },
  {
   "cell_type": "code",
   "execution_count": null,
   "metadata": {},
   "outputs": [],
   "source": [
    "favorites = ['Churros', 'Tiramisú', 'Pudding']\n",
    "\n",
    "for dessert in favorites:\n",
    "    if dessert == 'Pudding':\n",
    "        print('Yes one of my favorite desserts is', dessert) \n",
    "else:\n",
    "    print('No sorry, that dessert is not on my list')\n"
   ]
  },
  {
   "cell_type": "code",
   "execution_count": null,
   "metadata": {},
   "outputs": [],
   "source": [
    "countdown = 5\n",
    "\n",
    "while countdown > 0:\n",
    "    print(countdown)\n",
    "    countdown -= 1\n",
    "else:\n",
    "    print(\"Countdown complete! Blast off!\")\n"
   ]
  },
  {
   "cell_type": "code",
   "execution_count": null,
   "metadata": {},
   "outputs": [],
   "source": [
    "f = open(\"sample.txt\", \"r\")\n",
    "while True:\n",
    "    line = f.readline()\n",
    "    if not line:\n",
    "        break\n",
    "    print(line.strip())\n",
    "else:\n",
    "    f.close\n"
   ]
  },
  {
   "cell_type": "markdown",
   "metadata": {},
   "source": [
    "Break - Examples"
   ]
  },
  {
   "cell_type": "code",
   "execution_count": null,
   "metadata": {},
   "outputs": [],
   "source": [
    "favorites = ['Churros', 'Tiramisú', 'Pudding']\n",
    "\n",
    "for dessert in favorites:\n",
    "    if dessert == 'Pudding':\n",
    "        print('My favorite is', dessert)\n",
    "        break \n",
    "else:\n",
    "    print('No sorry, not a dessert on my list')\n"
   ]
  },
  {
   "cell_type": "code",
   "execution_count": null,
   "metadata": {},
   "outputs": [],
   "source": [
    "snacks_in_stock = [\"chips\", \"candy\", \"soda\", \"cookies\"]\n",
    "user_choice = \"\"\n",
    "\n",
    "while user_choice != \"q\":\n",
    "    user_choice = input(\"Enter your snack choice (or 'q' to exit): \")\n",
    "\n",
    "    # Check if the user wants to quit\n",
    "    if user_choice == \"q\":\n",
    "        print(\"Thank you for using the vending machine.\")\n",
    "        break\n",
    "\n",
    "    # Dispense the selected snack\n",
    "    print(f\"Dispensing {user_choice}. Enjoy your snack!\")\n",
    "\n",
    "print(\"Vending machine session ended.\")\n"
   ]
  },
  {
   "cell_type": "markdown",
   "metadata": {},
   "source": [
    "Continue - Examples"
   ]
  },
  {
   "cell_type": "code",
   "execution_count": null,
   "metadata": {},
   "outputs": [],
   "source": [
    "favorites = ['Churros', 'Tiramisú', 'Pudding']\n",
    "\n",
    "for dessert in favorites:\n",
    "    if dessert == 'Churros':\n",
    "        continue\n",
    "    print('Other desserts I like are', dessert)\n"
   ]
  },
  {
   "cell_type": "code",
   "execution_count": null,
   "metadata": {},
   "outputs": [],
   "source": [
    "snacks_in_stock = [\"chips\", \"candy\", \"soda\", \"cookies\"]\n",
    "user_choice = \"\"\n",
    "\n",
    "while user_choice != \"q\":\n",
    "    user_choice = input(\"Enter your snack choice (or 'q' to exit): \")\n",
    "\n",
    "    # Check if the user wants to quit\n",
    "    if user_choice == \"q\":\n",
    "        print(\"Thank you for using the vending machine.\")\n",
    "        break\n",
    "\n",
    "    # Check if the selected snack is in stock\n",
    "    if user_choice not in snacks_in_stock:\n",
    "        print(\"Sorry, that snack is not available.\")\n",
    "        continue  # Continue iteration without dispensing the snack\n",
    "\n",
    "    # Dispense the selected snack\n",
    "    print(f\"Dispensing {user_choice}. Enjoy your snack!\")\n",
    "\n",
    "print(\"Vending machine session ended.\")\n"
   ]
  },
  {
   "cell_type": "markdown",
   "metadata": {},
   "source": [
    "Pass - Examples"
   ]
  },
  {
   "cell_type": "code",
   "execution_count": null,
   "metadata": {},
   "outputs": [],
   "source": [
    "customers = [\"Alice\", \"Bob\", \"Charlie\"]\n",
    "\n",
    "for customer in customers:\n",
    "    if customer == \"Charlie\":\n",
    "        pass  # Implementation for Charlie later\n",
    "    else:\n",
    "        send_email(customer)\n"
   ]
  },
  {
   "cell_type": "code",
   "execution_count": null,
   "metadata": {},
   "outputs": [],
   "source": [
    "valid_login = \"admin\"\n",
    "valid_password = \"password\"\n",
    "\n",
    "while True:\n",
    "    login = input(\"Enter your login: \")\n",
    "    password = input(\"Enter your password: \")\n",
    "\n",
    "    if login == valid_login and password == valid_password:\n",
    "        print(\"Authentication successful!\")\n",
    "        break\n",
    "    else:\n",
    "        print(\"Invalid credentials. Please try again.\")\n",
    "        pass  # Placeholder for later (e.g., account lockout)\n",
    "\n",
    "print(\"Welcome, admin!\")\n"
   ]
  }
 ],
 "metadata": {
  "kernelspec": {
   "display_name": "Python 3",
   "language": "python",
   "name": "python3"
  },
  "language_info": {
   "codemirror_mode": {
    "name": "ipython",
    "version": 3
   },
   "file_extension": ".py",
   "mimetype": "text/x-python",
   "name": "python",
   "nbconvert_exporter": "python",
   "pygments_lexer": "ipython3",
   "version": "3.11.5"
  },
  "orig_nbformat": 4
 },
 "nbformat": 4,
 "nbformat_minor": 2
}
