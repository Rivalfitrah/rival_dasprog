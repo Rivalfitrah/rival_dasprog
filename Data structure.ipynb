{
 "cells": [
  {
   "cell_type": "markdown",
   "metadata": {},
   "source": [
    "Rival Fitrah Dermawan\n",
    "J0403231039"
   ]
  },
  {
   "cell_type": "markdown",
   "metadata": {},
   "source": [
    "List"
   ]
  },
  {
   "cell_type": "markdown",
   "metadata": {},
   "source": [
    "Examples of using Built-in Methods\n"
   ]
  },
  {
   "cell_type": "code",
   "execution_count": null,
   "metadata": {},
   "outputs": [],
   "source": [
    "# Initialize a sample list\n",
    "my_list = [1, 2, 3, 4, 3, 5]\n",
    "\n",
    "# append(x) - Adds an element to the end of the list\n",
    "my_list.append(6)\n",
    "print(my_list)  # Output: [1, 2, 3, 4, 3, 5, 6]\n",
    "\n",
    "# extend(iterable) - Extends the list with elements from another iterable\n",
    "my_list.extend([7, 8, 9])\n",
    "print(my_list)  # Output: [1, 2, 3, 4, 3, 5, 6, 7, 8, 9]\n",
    "\n",
    "# insert(i, x) - Inserts an element at a specified index\n",
    "my_list.insert(2, 10)\n",
    "print(my_list)  # Output: [1, 2, 10, 3, 4, 3, 5, 6, 7, 8, 9]\n",
    "\n",
    "# remove(x) - Removes the first occurrence of an element\n",
    "my_list.remove(3)\n",
    "print(my_list)  # Output: [1, 2, 10, 4, 3, 5, 6, 7, 8, 9]\n",
    "\n",
    "# pop([i]) - Removes and returns an element (default: last element)\n",
    "popped_element = my_list.pop(2)\n",
    "print(f\"Popped element: {popped_element}\")  # Output: Popped element: 10\n"
   ]
  },
  {
   "cell_type": "code",
   "execution_count": null,
   "metadata": {},
   "outputs": [],
   "source": [
    "# clear() - Removes all elements from the list\n",
    "my_list.clear()\n",
    "print(my_list)  # Output: []\n",
    "\n",
    "# index(x[, start[, end]]) - Returns the index of the first occurrence of an element\n",
    "my_list = [1, 2, 3, 4, 3, 5]\n",
    "index = my_list.index(3)\n",
    "print(f\"Index of 3: {index}\")  # Output: Index of 3: 2\n",
    "\n",
    "# count(x) - Returns the number of occurrences of an element\n",
    "count = my_list.count(3)\n",
    "print(f\"Count of 3: {count}\")  # Output: Count of 3: 2\n",
    "\n",
    "# sort(key=None, reverse=False) - Sorts the list in ascending order\n",
    "my_list.sort()\n",
    "print(my_list)  # Output: [1, 2, 3, 3, 4, 5]\n",
    "\n",
    "# reverse() - Reverses the order of elements\n",
    "my_list.reverse()\n",
    "print(my_list)  # Output: [5, 4, 3, 3, 2, 1]\n",
    "\n",
    "# copy() - Creates a shallow copy of the list\n",
    "copy_of_list = my_list.copy()\n",
    "print(copy_of_list)  # Output: [5, 4, 3, 3, 2, 1]\n",
    "\n",
    "# len(list) - Returns the number of elements in the list\n",
    "length = len(my_list)\n",
    "print(f\"Length of the list: {length}\")  # Output: Length of the list: 6\n"
   ]
  },
  {
   "cell_type": "markdown",
   "metadata": {},
   "source": [
    "Creating Python lists\n"
   ]
  },
  {
   "cell_type": "code",
   "execution_count": null,
   "metadata": {},
   "outputs": [],
   "source": [
    "list1=[] # creating an empty list\n",
    "list2=[1,2.4,'abc',(1,2),[6,78,9]] # creating a list of different values\n",
    "print(\"The type of\",list1,\"is:\",type(list1))\n",
    "print(\"The type of\",list2,\"is:\",type(list2))\n"
   ]
  },
  {
   "cell_type": "markdown",
   "metadata": {},
   "source": [
    "Accessing an element from the Python list\n"
   ]
  },
  {
   "cell_type": "code",
   "execution_count": null,
   "metadata": {},
   "outputs": [],
   "source": [
    "list_1=[1,3,5.6,'a',\"PythonGeeks\",0.4]\n",
    "print(list_1[3]) # accessing the 4th element\n",
    "print(list_1) # accessing the whole list\n",
    "print(list_1[-2]) # printing the last 2nd element\n"
   ]
  },
  {
   "cell_type": "markdown",
   "metadata": {},
   "source": [
    "Slicing the list in Python\n"
   ]
  },
  {
   "cell_type": "code",
   "execution_count": null,
   "metadata": {},
   "outputs": [],
   "source": [
    "list_1=[1,3,5.6,'a',\"PythonGeeks\",0.4]\n",
    "print(\"list_1[2:5] =\",list_1[2:5]) # slicing 3rd to 5th element\n",
    "print(\"list_1[:] =\",list_1[:]) # getting entire list\n",
    "print(\"list_1[-5:-2] =\",list_1[-5:-2]) # slicing last 5th to 3rd element\n",
    "print(\"list_1[3:] =\",list_1[3:]) # slicing all elements after 3rd one\n",
    "print(\"list_1[-3:] =\",list_1[-3:]) # slicing all elements after last 3rd one\n",
    "print(\"list_1[:2] =\",list_1[:2]) # slicing all elements till 2nd one\n",
    "print(\"list_1[:-2] =\",list_1[:-2])# slicing all elements till last 2nd one\n"
   ]
  },
  {
   "cell_type": "markdown",
   "metadata": {},
   "source": [
    "Modifying and deleting from Python List\n"
   ]
  },
  {
   "cell_type": "code",
   "execution_count": null,
   "metadata": {},
   "outputs": [],
   "source": [
    "# Create a list\n",
    "my_list = [1, 2, 3, 4, 5]\n",
    "\n",
    "# Modify an element using indexing\n",
    "my_list[2] = 10\n",
    "print(\"After modifying using indexing:\", my_list)  # Output: [1, 2, 10, 4, 5]\n",
    "\n",
    "# Modify a range of elements using slicing\n",
    "my_list[1:4] = [20, 30, 40]\n",
    "print(\"After modifying using slicing:\", my_list)  # Output: [1, 20, 30, 40, 5]\n",
    "\n",
    "# Delete an element using indexing\n",
    "del my_list[2]\n",
    "print(\"After deleting using indexing:\", my_list)  # Output: [1, 20, 40, 5]\n",
    "\n",
    "# Delete a range of elements using slicing\n",
    "my_list[1:4] = []\n",
    "print(\"After deleting using slicing:\", my_list)  # Output: [1, 5]\n",
    "\n",
    "# Delete the entire list\n",
    "del my_list\n",
    "# Now, my_list is no longer defined\n"
   ]
  },
  {
   "cell_type": "markdown",
   "metadata": {},
   "source": [
    "Common Ways to Loop Through a List\n"
   ]
  },
  {
   "cell_type": "code",
   "execution_count": null,
   "metadata": {},
   "outputs": [],
   "source": [
    "# Create a sample list\n",
    "my_list = [1, 2, 3, 4, 5]\n",
    "\n",
    "# Method 1: Loop through the list and print each element\n",
    "for item in my_list:\n",
    "    print(item)\n",
    "\n",
    "# Method 2: Loop through the list with index using enumerate()\n",
    "for index, item in enumerate(my_list):\n",
    "    print(f\"Index {index}: {item}\")\n",
    "\n",
    "# Method 3: Loop through the list in reverse order\n",
    "for item in reversed(my_list):\n",
    "    print(item)\n",
    "\n"
   ]
  },
  {
   "cell_type": "markdown",
   "metadata": {},
   "source": [
    "List Comprehension in Python\n"
   ]
  },
  {
   "cell_type": "code",
   "execution_count": null,
   "metadata": {},
   "outputs": [],
   "source": [
    "# Sample 1:\n",
    "list1=[1,-2,3,-4,5]\n",
    "list2=[x**2 for x in list1]\n",
    "print(list2)\n",
    "\n",
    "# Sample 2 (with condition):\n",
    "fruits = [\"apple\", \"banana\", \"cherry\", \"kiwi\", \"mango\"]\n",
    "newlist = [x if x != \"banana\" else \"orange\" for x in fruits]\n",
    "print(newlist)\n"
   ]
  },
  {
   "cell_type": "markdown",
   "metadata": {},
   "source": [
    "Unpacking the List\n"
   ]
  },
  {
   "cell_type": "code",
   "execution_count": null,
   "metadata": {},
   "outputs": [],
   "source": [
    "emp_info=['Python',5,'Developer']\n",
    "\n",
    "#List unpacking\n",
    "skill,exp,role=emp_info\n",
    "print (skill)\t#Output:Python\n",
    "print (exp)\t#Output:5\n",
    "print (role)\t#Output:Developer\n"
   ]
  },
  {
   "cell_type": "markdown",
   "metadata": {},
   "source": [
    "Using Lists as Stacks - Example\n"
   ]
  },
  {
   "cell_type": "code",
   "execution_count": null,
   "metadata": {},
   "outputs": [],
   "source": [
    "# Initialize an empty stack to represent the browser history\n",
    "browser_history = []\n",
    "\n",
    "# Simulate user browsing by pushing visited pages onto the stack\n",
    "browser_history.append(\"Homepage\")\n",
    "browser_history.append(\"About Us\")\n",
    "browser_history.append(\"Products\")\n",
    "browser_history.append(\"Contact Us\")\n",
    "\n",
    "# User clicks the back button\n",
    "if len(browser_history) > 0:\n",
    "    current_page = browser_history.pop()\n",
    "    print(\"User clicked the back button. Navigating to:\", current_page)\n",
    "\n",
    "# User continues browsing and adds more pages to the history\n",
    "browser_history.append(\"FAQs\")\n",
    "browser_history.append(\"Blog\")\n",
    "\n",
    "# User clicks the back button again\n",
    "if len(browser_history) > 0:\n",
    "    current_page = browser_history.pop()\n",
    "    print(\"User clicked the back button. Navigating to:\", current_page)\n",
    "\n",
    "# At this point, the browser history would contain [\"Homepage\", \"About Us\", \"Products\", \"Contact Us\", \"FAQs\"].\n",
    "\n"
   ]
  },
  {
   "cell_type": "markdown",
   "metadata": {},
   "source": [
    "Using Lists as Queue - Example\n"
   ]
  },
  {
   "cell_type": "code",
   "execution_count": null,
   "metadata": {},
   "outputs": [],
   "source": [
    "queue = ['Person 1','Person 2'] \n",
    "  \n",
    "# Adding elements to the queue \n",
    "queue.append('Person 3') \n",
    "  \n",
    "print(\"\\nQueue before:\") \n",
    "print(queue) \n",
    "  \n",
    "# Removing elements from the queue \n",
    "print(\"\\nElements dequeued from queue : \", queue.pop(0)) \n",
    "  \n",
    "print(\"\\nQueue after:\") \n",
    "print(queue)\n"
   ]
  },
  {
   "cell_type": "markdown",
   "metadata": {},
   "source": [
    "Tuples\n",
    "Built-in Methods of Tuples\n"
   ]
  },
  {
   "cell_type": "code",
   "execution_count": null,
   "metadata": {},
   "outputs": [],
   "source": [
    "tup=(9,6,'g','Python',7.4)\n",
    "print(len(tup))\n",
    "print(tup.index('g'))\n",
    "\n",
    "print(tup.count('a'))\n"
   ]
  },
  {
   "cell_type": "markdown",
   "metadata": {},
   "source": [
    "Creating Tuples\n"
   ]
  },
  {
   "cell_type": "code",
   "execution_count": null,
   "metadata": {},
   "outputs": [],
   "source": [
    "# Create a tuple using round brackets\n",
    "t1 = (1, 2, 3, 4)\n",
    "\n",
    "# Create a tuple from a list the tuple() constructor\n",
    "t2 = tuple([1, 2, 3, 4, 5])\n",
    "\n",
    "# Create a tuple using the tuple() constructor\n",
    "t3 = tuple([1, 2, 3, 4, 5, 6])\n",
    "\n",
    "# Print out tuples\n",
    "print(f\"Tuple t1: {t1}\")\n",
    "print(f\"Tuple t2: {t2}\")\n",
    "print(f\"Tuple t3: {t3}\")\n"
   ]
  },
  {
   "cell_type": "markdown",
   "metadata": {},
   "source": [
    "Accessing Values in Tuples\n"
   ]
  },
  {
   "cell_type": "code",
   "execution_count": 1,
   "metadata": {},
   "outputs": [
    {
     "name": "stdout",
     "output_type": "stream",
     "text": [
      "tup1[0]:  physics\n",
      "tup2[1:5]:  (2, 3, 4, 5)\n"
     ]
    }
   ],
   "source": [
    "tup1 = ('physics', 'chemistry', 1997, 2000);\n",
    "tup2 = (1, 2, 3, 4, 5, 6, 7 );\n",
    "print (\"tup1[0]: \", tup1[0])\n",
    "print (\"tup2[1:5]: \", tup2[1:5])\n"
   ]
  },
  {
   "cell_type": "markdown",
   "metadata": {},
   "source": [
    "Updating Tuples\n"
   ]
  },
  {
   "cell_type": "code",
   "execution_count": null,
   "metadata": {},
   "outputs": [],
   "source": [
    "tup1 = (12, 34.56);\n",
    "tup2 = ('abc', 'xyz');\n",
    "\n",
    "# Following action is NOT VALID for tuples\n",
    "# tup1[0] = 100;\n",
    "\n",
    "# So let's create a new tuple as follows\n",
    "tup3 = tup1 + tup2;\n",
    "print (tup3);\n"
   ]
  },
  {
   "cell_type": "markdown",
   "metadata": {},
   "source": [
    "Delete Tuple Elements\n"
   ]
  },
  {
   "cell_type": "code",
   "execution_count": null,
   "metadata": {},
   "outputs": [],
   "source": [
    "tup = ('physics', 'chemistry', 1997, 2000);\n",
    "print (tup);\n",
    "del tup;\n",
    "print (\"After deleting tup : \");\n",
    "print (tup);\t# an exception raised, because after del tup tuple does not exist anymore\n"
   ]
  },
  {
   "cell_type": "markdown",
   "metadata": {},
   "source": [
    "Changing Python tuple value by using list()\n"
   ]
  },
  {
   "cell_type": "code",
   "execution_count": null,
   "metadata": {},
   "outputs": [],
   "source": [
    "tup=(1,2,3,4,5)\n",
    "\n",
    "list1=list(tup)\n",
    "list1[4]=6\n",
    "\n",
    "tup=tuple(list1)\n",
    "tup\n"
   ]
  },
  {
   "cell_type": "markdown",
   "metadata": {},
   "source": [
    "Tuple Packing and Unpacking\n"
   ]
  },
  {
   "cell_type": "code",
   "execution_count": null,
   "metadata": {},
   "outputs": [],
   "source": [
    "tup=1,2,3 #packing\n",
    "print(\"The type of \",tup,\"is:\",type(tup))\n",
    "\n",
    "a,b,c=tup #unpacking\n",
    "print(a)\n",
    "print(b)\n",
    "print(c)\n"
   ]
  },
  {
   "cell_type": "markdown",
   "metadata": {},
   "source": [
    "Dictionary"
   ]
  },
  {
   "cell_type": "markdown",
   "metadata": {},
   "source": [
    "Built-in Methods of Dictionaries - Example\n"
   ]
  },
  {
   "cell_type": "code",
   "execution_count": null,
   "metadata": {},
   "outputs": [],
   "source": [
    "dict1={1:'a',2:'e',3:'i',4:'o',5:'u'}\n",
    "print(dict1.get(4))\n",
    "\n",
    "print(dict1.keys())\n",
    "\n",
    "print(dict1.values())\n",
    "\n",
    "print(dict1.items())\n",
    "\n",
    "var1=dict1.pop(2)\n",
    "print(\"The value of var1 is:\",var1)\n",
    "\n",
    "var2=dict1.popitem()\n",
    "print(\"The value of var2 is:\",var2)\n",
    "\n",
    "dict1.clear()\n",
    "dict1\n"
   ]
  },
  {
   "cell_type": "markdown",
   "metadata": {},
   "source": [
    "Accessing Values in Dictionary\n"
   ]
  },
  {
   "cell_type": "code",
   "execution_count": null,
   "metadata": {},
   "outputs": [],
   "source": [
    "dict = {'Name': 'Zara', 'Age': 7, 'Class': 'First'}\n",
    "print (\"dict['Name']: \", dict['Name'])\n",
    "print (\"dict['Age']: \", dict['Age'])\n"
   ]
  },
  {
   "cell_type": "markdown",
   "metadata": {},
   "source": [
    "Updating Dictionary\n"
   ]
  },
  {
   "cell_type": "code",
   "execution_count": null,
   "metadata": {},
   "outputs": [],
   "source": [
    "dict = {'Name': 'Zara', 'Age': 7, 'Class': 'First'}\n",
    "dict['Age'] = 8; # update existing entry\n",
    "dict['School'] = \"DPS School\"; # Add new entry\n",
    "\n",
    "print (\"dict['Age']: \", dict['Age'])\n",
    "print (\"dict['School']: \", dict['School'])\n"
   ]
  },
  {
   "cell_type": "markdown",
   "metadata": {},
   "source": [
    "Delete Dictionary Elements\n"
   ]
  },
  {
   "cell_type": "code",
   "execution_count": null,
   "metadata": {},
   "outputs": [],
   "source": [
    "dict = {'Name': 'Zara', 'Age': 7, 'Class': 'First'}\n",
    "del dict['Name']; # remove entry with key 'Name'\n",
    "dict.clear();     # remove all entries in dict\n",
    "del dict ;        # delete entire dictionary\t\n",
    "\n",
    "# an exception is raised here because after del dict dictionary does not exist any more :\n",
    "print (\"dict['Age']: \", dict['Age'])\n",
    "print (\"dict['School']: \", dict['School'])\n"
   ]
  },
  {
   "cell_type": "markdown",
   "metadata": {},
   "source": [
    "Common Ways to Loop through a Dictionary\n"
   ]
  },
  {
   "cell_type": "code",
   "execution_count": 2,
   "metadata": {},
   "outputs": [
    {
     "name": "stdout",
     "output_type": "stream",
     "text": [
      "name -> Alice\n",
      "age -> 25\n",
      "city -> New York\n",
      "name -> Alice\n",
      "age -> 25\n",
      "city -> New York\n",
      "name -> Alice\n",
      "age -> 25\n",
      "city -> New York\n",
      "Alice\n",
      "25\n",
      "New York\n"
     ]
    }
   ],
   "source": [
    "# Creating a sample dictionary\n",
    "my_dict = {\"name\": \"Alice\", \"age\": 25, \"city\": \"New York\"}\n",
    "\n",
    "# Method 1: Loop through keys and access values\n",
    "for key in my_dict:\n",
    "    print(key, \"->\", my_dict[key])\n",
    "\n",
    "# Method 2: Loop through keys and values using .items()\n",
    "for key, value in my_dict.items():\n",
    "    print(key, \"->\", value)\n",
    "\n",
    "# Method 3: Loop through keys using .keys() (less common)\n",
    "for key in my_dict.keys():\n",
    "        print(key, \"->\", my_dict [key])\n",
    "\n",
    "# Method 4: Loop through values using .values()\n",
    "for value in my_dict.values():\n",
    "    print(value)\n",
    "\n"
   ]
  },
  {
   "cell_type": "markdown",
   "metadata": {},
   "source": [
    "Properties of Dictionary Keys\n"
   ]
  },
  {
   "cell_type": "code",
   "execution_count": null,
   "metadata": {},
   "outputs": [],
   "source": [
    "dict = {'Name': 'Zara', 'Age': 7, 'Name': 'Manni'}\n",
    "print (\"dict['Name']: \", dict['Name'])\t# dict['Name']:  Manni\n"
   ]
  },
  {
   "cell_type": "markdown",
   "metadata": {},
   "source": [
    "Sets"
   ]
  },
  {
   "cell_type": "markdown",
   "metadata": {},
   "source": [
    "Creating a Set\n"
   ]
  },
  {
   "cell_type": "code",
   "execution_count": null,
   "metadata": {},
   "outputs": [],
   "source": [
    "Days=set([\"Mon\",\"Tue\",\"Wed\",\"Thu\",\"Fri\",\"Sat\",\"Sun\"])\n",
    "Months={\"Jan\",\"Feb\",\"Mar\"}\n",
    "Dates={21,22,17}\n",
    "print(Days)\n",
    "print(Months)\n",
    "print(Dates)\n"
   ]
  },
  {
   "cell_type": "markdown",
   "metadata": {},
   "source": [
    "Accessing Values in a Set\n"
   ]
  },
  {
   "cell_type": "code",
   "execution_count": null,
   "metadata": {},
   "outputs": [],
   "source": [
    "Days=set([\"Mon\",\"Tue\",\"Wed\",\"Thu\",\"Fri\",\"Sat\",\"Sun\"])\n",
    " \n",
    "for d in Days:\n",
    "   print(d)\n"
   ]
  },
  {
   "cell_type": "markdown",
   "metadata": {},
   "source": [
    "Adding & Removing Items to a Set\n"
   ]
  },
  {
   "cell_type": "code",
   "execution_count": null,
   "metadata": {},
   "outputs": [],
   "source": [
    "Days=set([\"Mon\",\"Tue\",\"Wed\",\"Thu\",\"Fri\",\"Sat\"])\n",
    " \n",
    "Days.add(\"Sun\")\n",
    "print(Days)\n"
   ]
  },
  {
   "cell_type": "code",
   "execution_count": null,
   "metadata": {},
   "outputs": [],
   "source": [
    "Days=set([\"Mon\",\"Tue\",\"Wed\",\"Thu\",\"Fri\",\"Sat\"])\n",
    " \n",
    "Days.discard(\"Sun\")\n",
    "print(Days)\n"
   ]
  },
  {
   "cell_type": "markdown",
   "metadata": {},
   "source": [
    "Union, Intersection, and Difference of Sets\n"
   ]
  },
  {
   "cell_type": "code",
   "execution_count": null,
   "metadata": {},
   "outputs": [],
   "source": [
    "DaysA = set([\"Mon\",\"Tue\",\"Wed\"])\n",
    "DaysB = set([\"Wed\",\"Thu\",\"Fri\",\"Sat\",\"Sun\"])\n",
    "print(DaysA|DaysB)\t\t# equals with print(DaysA.union(DaysB))\n",
    "print(DaysA & DaysB)\t# equals with print(DaysA.intersection(DaysB))\n",
    "print(DaysA - DaysB)\t\t# equals with print(DaysA.difference(DaysB))\n"
   ]
  },
  {
   "cell_type": "markdown",
   "metadata": {},
   "source": [
    "Closing data strucyure"
   ]
  },
  {
   "cell_type": "code",
   "execution_count": null,
   "metadata": {},
   "outputs": [],
   "source": [
    "employee_list = [(12345, \"John\", \"Kitchen\"), (12458, \"Paul\", \"House Floor\")]\n",
    "\n",
    "def get_employee(id):\n",
    "    for employee in employee_list:\n",
    "        if employee[0] == id:\n",
    "            return {\"id\": employee[0], \"name\": employee[1], \"department\": employee[2]}\n",
    "\n",
    "print(get_employee(12458))\n"
   ]
  },
  {
   "cell_type": "markdown",
   "metadata": {},
   "source": [
    "Using Dictionary\n"
   ]
  },
  {
   "cell_type": "code",
   "execution_count": 3,
   "metadata": {},
   "outputs": [
    {
     "name": "stdout",
     "output_type": "stream",
     "text": [
      "{'id': '12458', 'name': 'Paul', 'department': 'House Floor'}\n"
     ]
    }
   ],
   "source": [
    "employee_dict = {\n",
    "    12345: {\n",
    "        \"id\": \"12345\",\n",
    "        \"name\": \"John\", \n",
    "        \"department\": \"Kitchen\"    \n",
    "    },\n",
    "    12458: {\n",
    "        \"id\": \"12458\",\n",
    "        \"name\": \"Paul\", \n",
    "        \"department\": \"House Floor\"    \n",
    "    }\n",
    "}\n",
    "\n",
    "def get_employee_from_dict(id):\n",
    "    return employee_dict[id];\n",
    "\n",
    "\n",
    "print(get_employee_from_dict(12458));\n"
   ]
  }
 ],
 "metadata": {
  "kernelspec": {
   "display_name": "Python 3",
   "language": "python",
   "name": "python3"
  },
  "language_info": {
   "codemirror_mode": {
    "name": "ipython",
    "version": 3
   },
   "file_extension": ".py",
   "mimetype": "text/x-python",
   "name": "python",
   "nbconvert_exporter": "python",
   "pygments_lexer": "ipython3",
   "version": "3.11.5"
  }
 },
 "nbformat": 4,
 "nbformat_minor": 2
}
